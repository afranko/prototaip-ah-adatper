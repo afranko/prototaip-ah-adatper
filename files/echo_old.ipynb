{
 "cells": [
  {
   "cell_type": "code",
   "execution_count": 1,
   "metadata": {
    "execution": {
     "iopub.execute_input": "2023-12-03T16:00:37.836927Z",
     "iopub.status.busy": "2023-12-03T16:00:37.836504Z",
     "iopub.status.idle": "2023-12-03T16:00:37.842813Z",
     "shell.execute_reply": "2023-12-03T16:00:37.842021Z"
    }
   },
   "outputs": [],
   "source": [
    "import json\n",
    "import os\n",
    "\n",
    "#! For second method (exec as python)\n",
    "if 'data_input' not in locals():\n",
    "    data_input = None\n",
    "\n",
    "#! First method (via inputfile)\n",
    "if os.path.isfile(\"./echo-inputdata.json\"):\n",
    "    with open(\"./echo-inputdata.json\") as f:\n",
    "        data = json.load(f)\n",
    "#! Second method (exec as python)\n",
    "else:\n",
    "    data = json.loads(data_input)"
   ]
  },
  {
   "cell_type": "code",
   "execution_count": 2,
   "metadata": {
    "execution": {
     "iopub.execute_input": "2023-12-03T16:00:37.846843Z",
     "iopub.status.busy": "2023-12-03T16:00:37.846397Z",
     "iopub.status.idle": "2023-12-03T16:00:37.851571Z",
     "shell.execute_reply": "2023-12-03T16:00:37.850815Z"
    }
   },
   "outputs": [
    {
     "name": "stdout",
     "output_type": "stream",
     "text": [
      "{\"msg\": \"echo\"}\n"
     ]
    }
   ],
   "source": [
    "x = {\"msg\": data[\"msg\"]}\n",
    "\n",
    "#! Mandatory variable for the first method\n",
    "output = json.dumps(x)\n",
    "\n",
    "#! Mandatory print for the second method (!the only print in the cell!)\n",
    "print(output)"
   ]
  }
 ],
 "metadata": {
  "language_info": {
   "codemirror_mode": {
    "name": "ipython",
    "version": 3
   },
   "file_extension": ".py",
   "mimetype": "text/x-python",
   "name": "python",
   "nbconvert_exporter": "python",
   "pygments_lexer": "ipython3",
   "version": "3.12.0"
  }
 },
 "nbformat": 4,
 "nbformat_minor": 2
}
